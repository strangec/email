{
 "cells": [
  {
   "cell_type": "code",
   "execution_count": 40,
   "metadata": {},
   "outputs": [],
   "source": [
    "president = open('zoeleonard.txt').read()"
   ]
  },
  {
   "cell_type": "code",
   "execution_count": 41,
   "metadata": {},
   "outputs": [],
   "source": [
    "president = president.upper()"
   ]
  },
  {
   "cell_type": "code",
   "execution_count": 42,
   "metadata": {},
   "outputs": [
    {
     "name": "stdout",
     "output_type": "stream",
     "text": [
      "I WANT A DYKE FOR PRESIDENT. I WANT A PERSON WITH AIDS FOR PRESIDENT AND I WANT A FAG FOR VICE PRESIDENT AND I WANT SOMEONE WITH NO HEALTH INSURANCE AND I WANT SOMEONE WHO GREW UP IN A PLACE WHERE THE EARTH IS SO SATURATED WITH TOXIC WASTE THAT THEY DIDN’T HAVE A CHOICE ABOUT GETTING LEUKEMIA. I WANT A PRESIDENT THAT HAD AN ABORTION AT SIXTEEN AND I WANT A CANDIDATE WHO ISN’T THE LESSER OF TWO EVILS AND I WANT A PRESIDENT WHO LOST THEIR LAST LOVER TO AIDS, WHO STILL SEES THAT IN THEIR EYES EVERY TIME THEY LAY DOWN TO REST, WHO HELD THEIR LOVER IN THEIR ARMS AND KNEW THEY WERE DYING. I WANT A PRESIDENT WITH NO AIR-CONDITIONING, A PRESIDENT WHO HAS STOOD IN LINE AT THE CLINIC, AT THE DMV, AT THE WELFARE OFFICE, AND HAS BEEN UNEMPLOYED AND LAID OFF AND SEXUALLY HARASSED AND GAYBASHED AND DEPORTED. I WANT SOMEONE WHO HAS SPENT THE NIGHT IN THE TOMBS AND HAD A CROSS BURNED ON THEIR LAWN AND SURVIVED RAPE. I WANT SOMEONE WHO HAS BEEN IN LOVE AND BEEN HURT, WHO RESPECTS SEX, WHO HAS MADE MISTAKES AND LEARNED FROM THEM. I WANT A BLACK WOMAN FOR PRESIDENT. I WANT SOMEONE WITH BAD TEETH AND AN ATTITUDE, SOMEONE WHO HAS EATEN THAT NASTY HOSPITAL FOOD, SOMEONE WHO CROSSDRESSES AND HAS DONE DRUGS AND BEEN IN THERAPY. I WANT SOMEONE WHO HAS COMMITTED CIVIL DISOBEDIENCE. AND I WANT TO KNOW WHY THIS ISN’T POSSIBLE. I WANT TO KNOW WHY WE STARTED LEARNING SOMEWHERE DOWN THE LINE THAT A PRESIDENT IS ALWAYS A CLOWN. ALWAYS A JOHN AND NEVER A HOOKER. ALWAYS A BOSS AND NEVER A WORKER. ALWAYS A LIAR, ALWAYS A THIEF, AND NEVER CAUGHT.\n",
      "\n"
     ]
    }
   ],
   "source": [
    "print(president)"
   ]
  },
  {
   "cell_type": "code",
   "execution_count": 51,
   "metadata": {},
   "outputs": [
    {
     "name": "stdout",
     "output_type": "stream",
     "text": [
      "I want a hooker. Always a liar, always a clown. Always a boss and never a worker. Always a john and never a worker. Always a john and never caught.for president\n"
     ]
    }
   ],
   "source": [
    "import markovify\n",
    "\n",
    "patha = \"/Users/charlottestrange/git/email/zoeleonard.txt\"\n",
    "pathb = \"/Users/charlottestrange/git/email/our-responses.txt\"\n",
    "\n",
    "# open both of the files, and read the text into variables \n",
    "with open(patha) as fa:\n",
    "    text_a = fa.read()\n",
    "    \n",
    "with open(pathb) as fb:\n",
    "    text_b = fb.read()\n",
    "    \n",
    "\n",
    "# Build the models. \n",
    "model_a = markovify.NewlineText(text_a)\n",
    "\n",
    "\n",
    "model_b = markovify.NewlineText(text_b)\n",
    "\n",
    "\n",
    "\n",
    "# combine the models together, setting the weights of how much to favor which source text\n",
    "weight_a = 1\n",
    "weight_b = 0.1\n",
    "model_combo = markovify.combine([ model_a, model_b ], [ weight_a, weight_b ])\n",
    "    \n",
    "# Print five randomly-generated sentences\n",
    "for i in range(1):\n",
    "    sentence = model_combo.make_sentence_with_start(beginning = \"a\", strict = False)\n",
    "    print(\"I want \" + sentence + \"for president\")"
   ]
  },
  {
   "cell_type": "code",
   "execution_count": null,
   "metadata": {},
   "outputs": [],
   "source": []
  },
  {
   "cell_type": "code",
   "execution_count": null,
   "metadata": {},
   "outputs": [],
   "source": []
  }
 ],
 "metadata": {
  "kernelspec": {
   "display_name": "Python 3",
   "language": "python",
   "name": "python3"
  },
  "language_info": {
   "codemirror_mode": {
    "name": "ipython",
    "version": 3
   },
   "file_extension": ".py",
   "mimetype": "text/x-python",
   "name": "python",
   "nbconvert_exporter": "python",
   "pygments_lexer": "ipython3",
   "version": "3.7.6"
  }
 },
 "nbformat": 4,
 "nbformat_minor": 4
}
